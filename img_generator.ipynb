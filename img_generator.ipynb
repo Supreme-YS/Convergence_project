{
  "nbformat": 4,
  "nbformat_minor": 0,
  "metadata": {
    "colab": {
      "name": "img_generator.ipynb",
      "private_outputs": true,
      "provenance": [],
      "authorship_tag": "ABX9TyNh43v8vL/wmk0fSVBgeWsk",
      "include_colab_link": true
    },
    "kernelspec": {
      "name": "python3",
      "display_name": "Python 3"
    },
    "language_info": {
      "name": "python"
    }
  },
  "cells": [
    {
      "cell_type": "markdown",
      "metadata": {
        "id": "view-in-github",
        "colab_type": "text"
      },
      "source": [
        "<a href=\"https://colab.research.google.com/github/im-Lily/Convergence_project/blob/develop/img_generator.ipynb\" target=\"_parent\"><img src=\"https://colab.research.google.com/assets/colab-badge.svg\" alt=\"Open In Colab\"/></a>"
      ]
    },
    {
      "cell_type": "code",
      "metadata": {
        "id": "uiv9y9nlTkPv"
      },
      "source": [
        "from google.colab import drive\n",
        "drive.mount('/content/drive/')"
      ],
      "execution_count": null,
      "outputs": []
    },
    {
      "cell_type": "code",
      "metadata": {
        "id": "yaMj1OBeHtS9"
      },
      "source": [
        "from numpy import expand_dims\n",
        "from keras.preprocessing.image import load_img\n",
        "from keras.preprocessing.image import img_to_array\n",
        "from keras.preprocessing.image import ImageDataGenerator\n",
        "from PIL import Image\n",
        "from random import *"
      ],
      "execution_count": null,
      "outputs": []
    },
    {
      "cell_type": "code",
      "metadata": {
        "id": "Ns1WYdLHHtXB"
      },
      "source": [
        "!unzip base_img_ps.zip "
      ],
      "execution_count": null,
      "outputs": []
    },
    {
      "cell_type": "code",
      "metadata": {
        "id": "nA5DQSOTavwz"
      },
      "source": [
        "rand = randrange(0, 90, 15)"
      ],
      "execution_count": null,
      "outputs": []
    },
    {
      "cell_type": "code",
      "metadata": {
        "id": "p2c2hIAlHtZ4"
      },
      "source": [
        "# count = 220\n",
        "gen_count = 3"
      ],
      "execution_count": null,
      "outputs": []
    },
    {
      "cell_type": "code",
      "metadata": {
        "id": "zGVUTQQ7HtcU"
      },
      "source": [
        "for i in range(197,220):\n",
        "    i = i+1\n",
        "    # Image Path\n",
        "    imgs = load_img('./base_img_ps/base_img_{}.jpg'.format(i))\n",
        "    data = img_to_array(imgs)\n",
        "\n",
        "    samples = expand_dims(data, 0)\n",
        "    datagen = ImageDataGenerator(\n",
        "                            #zoom_range=[0.85,1.0],\n",
        "                            #brightness_range=[0.,0.9],\n",
        "                            rotation_range=rand)\n",
        "    \n",
        "    it = datagen.flow(samples, batch_size=1)\n",
        "\n",
        "    for j in range(gen_count):\n",
        "        batch = it.next()\n",
        "        image = batch[0].astype('uint8')\n",
        "        img = Image.fromarray(image)\n",
        "\n",
        "        img.save(\"./gen_img_ps/gen_image_ps_{},{}.jpeg\".format(i,j), \"jpeg\")"
      ],
      "execution_count": null,
      "outputs": []
    }
  ]
}