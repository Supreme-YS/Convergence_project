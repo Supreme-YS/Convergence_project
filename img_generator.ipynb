{
  "nbformat": 4,
  "nbformat_minor": 0,
  "metadata": {
    "colab": {
      "name": "img_generator.ipynb",
      "provenance": [],
      "collapsed_sections": [],
      "authorship_tag": "ABX9TyOPGWAtKvfadT5HpegAVbWz",
      "include_colab_link": true
    },
    "kernelspec": {
      "name": "python3",
      "display_name": "Python 3"
    },
    "language_info": {
      "name": "python"
    }
  },
  "cells": [
    {
      "cell_type": "markdown",
      "metadata": {
        "id": "view-in-github",
        "colab_type": "text"
      },
      "source": [
        "<a href=\"https://colab.research.google.com/github/im-Lily/Convergence_project/blob/develop/img_generator.ipynb\" target=\"_parent\"><img src=\"https://colab.research.google.com/assets/colab-badge.svg\" alt=\"Open In Colab\"/></a>"
      ]
    },
    {
      "cell_type": "code",
      "metadata": {
        "id": "hxDwncsJxsUB"
      },
      "source": [
        "from numpy import expand_dims\n",
        "from keras.preprocessing.image import load_img\n",
        "from keras.preprocessing.image import img_to_array\n",
        "from keras.preprocessing.image import ImageDataGenerator\n",
        "from PIL import Image"
      ],
      "execution_count": 1,
      "outputs": []
    },
    {
      "cell_type": "code",
      "metadata": {
        "id": "NYYVOutpyTzC"
      },
      "source": [
        "!unzip base_img.zip"
      ],
      "execution_count": null,
      "outputs": []
    },
    {
      "cell_type": "code",
      "metadata": {
        "colab": {
          "base_uri": "https://localhost:8080/",
          "height": 34
        },
        "id": "Pjs2gbzEzKy9",
        "outputId": "6eb26518-66ef-4069-ceed-f7809daa615c"
      },
      "source": [
        "pwd"
      ],
      "execution_count": 8,
      "outputs": [
        {
          "output_type": "execute_result",
          "data": {
            "application/vnd.google.colaboratory.intrinsic+json": {
              "type": "string"
            },
            "text/plain": [
              "'/content'"
            ]
          },
          "metadata": {
            "tags": []
          },
          "execution_count": 8
        }
      ]
    },
    {
      "cell_type": "code",
      "metadata": {
        "id": "KgGJmqU-yYzJ"
      },
      "source": [
        "for i in range(220):\n",
        "    i = i+1\n",
        "    imgs = load_img('./base_img/base_img_{}.jpg'.format(i))\n",
        "    data = img_to_array(imgs)\n",
        "    # print(data) \n",
        "    samples = expand_dims(data, 0)\n",
        "    datagen = ImageDataGenerator(\n",
        "                            zoom_range=[0.85,1.0],\n",
        "                            brightness_range=[0.3,0.8],\n",
        "                            rotation_range=45,\n",
        "                            horizontal_flip=True,\n",
        "                            vertical_flip = True,\n",
        "                            # height_shift_range=0.5,\n",
        "                            # width_shift_range=0.5\n",
        "                             )\n",
        "    \n",
        "    it = datagen.flow(samples, batch_size=1)\n",
        "\n",
        "    for j in range(20):\n",
        "        batch = it.next()\n",
        "        image = batch[0].astype('uint8')\n",
        "        img = Image.fromarray(image)\n",
        "\n",
        "        img.save(\"./gen_img/gen_{},{}.jpeg\".format(i,j), \"jpeg\")"
      ],
      "execution_count": 9,
      "outputs": []
    }
  ]
}