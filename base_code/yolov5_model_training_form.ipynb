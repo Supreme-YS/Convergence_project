{
 "cells": [
  {
   "cell_type": "code",
   "execution_count": 1,
   "metadata": {},
   "outputs": [
    {
     "name": "stdout",
     "output_type": "stream",
     "text": [
      "Cloning into 'yolov5'...\n",
      "remote: Enumerating objects: 6260, done.\u001b[K\n",
      "remote: Counting objects: 100% (54/54), done.\u001b[K\n",
      "remote: Compressing objects: 100% (36/36), done.\u001b[K\n",
      "remote: Total 6260 (delta 24), reused 38 (delta 18), pack-reused 6206\u001b[K\n",
      "Receiving objects: 100% (6260/6260), 8.51 MiB | 11.91 MiB/s, done.\n",
      "Resolving deltas: 100% (4284/4284), done.\n"
     ]
    }
   ],
   "source": [
    "!git clone https://github.com/ultralytics/yolov5"
   ]
  },
  {
   "cell_type": "code",
   "execution_count": 2,
   "metadata": {},
   "outputs": [
    {
     "name": "stdout",
     "output_type": "stream",
     "text": [
      "/home/lab02/yolov5\n"
     ]
    }
   ],
   "source": [
    "# yolov5 폴더가 만들어진 경로를 찾아서 들어가주세요\n",
    "%cd yolov5"
   ]
  },
  {
   "cell_type": "code",
   "execution_count": 3,
   "metadata": {},
   "outputs": [
    {
     "name": "stdout",
     "output_type": "stream",
     "text": [
      "\u001b[33mWARNING: You are using pip version 21.0.1; however, version 21.1.1 is available.\n",
      "You should consider upgrading via the '/home/ubuntu/anaconda3/envs/tensorflow2_latest_p37/bin/python -m pip install --upgrade pip' command.\u001b[0m\n",
      "Note: you may need to restart the kernel to use updated packages.\n"
     ]
    }
   ],
   "source": [
    "# 필요 라이브러리 설치\n",
    "%pip install -qr requirements.txt"
   ]
  },
  {
   "cell_type": "code",
   "execution_count": null,
   "metadata": {},
   "outputs": [],
   "source": [
    "# 데이터셋  압축해제\n",
    "!unzip -q ../plastic_symbol.zip -d ../"
   ]
  },
  {
   "cell_type": "markdown",
   "metadata": {},
   "source": [
    "### coco128.yaml 파일 수정 \n",
    "#위에서 압축 해제된 경로를 잘 맞춰주세요\n",
    "train: ../plastic_symbol/images/ \n",
    "val: ../plastic_symbol/images/ \n",
    "\n",
    "### number of classes\n",
    "nc: 8\n",
    "\n",
    "### class names\n",
    "names: ['pete',\n",
    "'hdpe',\n",
    "'v',\n",
    "'ldpe',\n",
    "'pp',\n",
    "'ps',\n",
    "'other',\n",
    "'no_plastic']"
   ]
  },
  {
   "cell_type": "code",
   "execution_count": null,
   "metadata": {},
   "outputs": [],
   "source": [
    "# 훈련\n",
    "!python3 train.py --img 640 --batch 16 --epochs 50 --data ./data/coco128.yaml --weights yolov5m.pt"
   ]
  },
  {
   "cell_type": "code",
   "execution_count": null,
   "metadata": {},
   "outputs": [],
   "source": [
    "#source : 테스트 파일들이 위치하는 폴더의 경로\n",
    "#weights : 위에서 학습이 완료된 best.pt파일이 위치하는 경로\n",
    "!python3 detect.py --source ./test_video/ --weights ./runs/train/exp7/weights/best.pt"
   ]
  },
  {
   "cell_type": "code",
   "execution_count": null,
   "metadata": {},
   "outputs": [],
   "source": [
    "# 학습 이어가기 \n",
    "cd yolov5\n",
    "python train.py --resume"
   ]
  }
 ],
 "metadata": {
  "kernelspec": {
   "display_name": "Python [conda env:tensorflow2_latest_p37] *",
   "language": "python",
   "name": "conda-env-tensorflow2_latest_p37-py"
  },
  "language_info": {
   "codemirror_mode": {
    "name": "ipython",
    "version": 3
   },
   "file_extension": ".py",
   "mimetype": "text/x-python",
   "name": "python",
   "nbconvert_exporter": "python",
   "pygments_lexer": "ipython3",
   "version": "3.7.6"
  }
 },
 "nbformat": 4,
 "nbformat_minor": 4
}
