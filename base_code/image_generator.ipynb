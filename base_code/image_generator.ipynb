{
  "nbformat": 4,
  "nbformat_minor": 0,
  "metadata": {
    "accelerator": "GPU",
    "colab": {
      "name": "image_generator.ipynb",
      "provenance": [],
      "collapsed_sections": []
    },
    "kernelspec": {
      "display_name": "Python 3",
      "name": "python3"
    },
    "language_info": {
      "name": "python"
    }
  },
  "cells": [
    {
      "cell_type": "code",
      "metadata": {
        "id": "VeGenPfJ7Xjt"
      },
      "source": [
        "from numpy import expand_dims\n",
        "from keras.preprocessing.image import load_img\n",
        "from keras.preprocessing.image import img_to_array\n",
        "from keras.preprocessing.image import ImageDataGenerator\n",
        "from PIL import Image"
      ],
      "execution_count": 5,
      "outputs": []
    },
    {
      "cell_type": "code",
      "metadata": {
        "colab": {
          "base_uri": "https://localhost:8080/",
          "height": 35
        },
        "id": "ADzIVOoXGVpa",
        "outputId": "f24ffc97-e3e9-4626-df07-2ad7a49d7a85"
      },
      "source": [
        "!unzip test_img.zip"
      ],
      "execution_count": null,
      "outputs": [
        {
          "output_type": "execute_result",
          "data": {
            "application/vnd.google.colaboratory.intrinsic+json": {
              "type": "string"
            },
            "text/plain": [
              "'/content'"
            ]
          },
          "metadata": {
            "tags": []
          },
          "execution_count": 3
        }
      ]
    },
    {
      "cell_type": "code",
      "metadata": {
        "id": "j87ARuj5EWa6"
      },
      "source": [
        "img = load_img('/content/test.jpg')\n",
        "\n",
        "# 이미지를 array 형태로 바꿈\n",
        "data = img_to_array(img)"
      ],
      "execution_count": 2,
      "outputs": []
    },
    {
      "cell_type": "code",
      "metadata": {
        "id": "2MsqjOhIDjAh"
      },
      "source": [
        "# expand dimension to one sample\n",
        "samples = expand_dims(data, 0)\n",
        "# create image data augmentation generator\n",
        "datagen = ImageDataGenerator(\n",
        "                            zoom_range=[0.5,0.7],\n",
        "                            brightness_range=[0.5,0.8],\n",
        "                            rotation_range=45,\n",
        "                            horizontal_flip=True,\n",
        "                            vertical_flip = True,\n",
        "                            # height_shift_range=0.5,\n",
        "                            # width_shift_range=0.5\n",
        "                             )\n",
        "# prepare iterator\n",
        "it = datagen.flow(samples, batch_size=1)\n",
        "# generate samples and plot\n",
        "for i in range(3):\n",
        "    batch = it.next()\n",
        "    image = batch[0].astype('uint8')\n",
        "    # print(image)\n",
        "    img = Image.fromarray(image)\n",
        "    img.save(\"test{}.jpeg\".format(i), \"jpeg\")"
      ],
      "execution_count": 13,
      "outputs": []
    },
    {
      "cell_type": "code",
      "metadata": {
        "id": "I1ShEOePFTJX"
      },
      "source": [
        ""
      ],
      "execution_count": null,
      "outputs": []
    }
  ]
}