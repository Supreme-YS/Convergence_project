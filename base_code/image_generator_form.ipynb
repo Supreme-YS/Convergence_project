{
  "nbformat": 4,
  "nbformat_minor": 0,
  "metadata": {
    "colab": {
      "name": "image_generator_form.ipynb",
      "provenance": [],
      "collapsed_sections": []
    },
    "kernelspec": {
      "name": "python3",
      "display_name": "Python 3"
    },
    "language_info": {
      "name": "python"
    }
  },
  "cells": [
    {
      "cell_type": "markdown",
      "metadata": {
        "id": "xw9JVC4GYq2c"
      },
      "source": [
        "### Image Generator for making image training data\n",
        "#### Written by. Supreme-YS\n",
        "\n",
        "* 폴더 내에 있는 파일 명은 img_1, img_2와 같은 넘버링 작업을 선행하고 진행\n",
        "* gen_image_path : generate 작업 이후 저장되는 폴더 (폴더명은 개인에 맞게 변경), 반드시 생성 \n",
        "* count : 압축해제 된 폴더내에 있는 이미지 갯수, 초기값 0\n",
        "* gen_count : 이미지 당 제너레이트 하고자 하는 이미지 갯수, 초기값 0"
      ]
    },
    {
      "cell_type": "code",
      "metadata": {
        "id": "q26tb-aEXfAB"
      },
      "source": [
        "from numpy import expand_dims\n",
        "from keras.preprocessing.image import load_img\n",
        "from keras.preprocessing.image import img_to_array\n",
        "from keras.preprocessing.image import ImageDataGenerator\n",
        "from PIL import Image\n",
        "\n",
        "!unzip <압축폴더명.zip> \n",
        "\n",
        "count = 0     \n",
        "gen_count = 0 \n",
        "\n",
        "for i in range(count):\n",
        "    i = i+1\n",
        "    # Image Path\n",
        "    imgs = load_img('image_path/image_file_{}'.format(i))\n",
        "    data = img_to_array(imgs)\n",
        "\n",
        "    samples = expand_dims(data, 0)\n",
        "    datagen = ImageDataGenerator(\n",
        "                            zoom_range=[0.85,1.0],\n",
        "                            brightness_range=[0.3,0.8],\n",
        "                            rotation_range=45,\n",
        "                            horizontal_flip=True,\n",
        "                            vertical_flip = True,\n",
        "                            height_shift_range=0.5,\n",
        "                            width_shift_range=0.5\n",
        "                            )\n",
        "    \n",
        "    it = datagen.flow(samples, batch_size=1)\n",
        "\n",
        "    for j in range(gen_count):\n",
        "        batch = it.next()\n",
        "        image = batch[0].astype('uint8')\n",
        "        img = Image.fromarray(image)\n",
        "\n",
        "        img.save(\"./gen_image_path/gen_image_file_{},{}.jpeg\".format(i,j), \"jpeg\")"
      ],
      "execution_count": null,
      "outputs": []
    }
  ]
}
