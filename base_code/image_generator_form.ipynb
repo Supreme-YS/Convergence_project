{
 "cells": [
  {
   "cell_type": "markdown",
   "metadata": {
    "id": "xw9JVC4GYq2c"
   },
   "source": [
    "### Image Generator for making image train dataset\n",
    "#### Written by. Supreme-YS\n",
    "\n",
    "* Augmentation 하고자 하는 이미지 파일 형식을 img_1, img_2, img_3..과 같은 넘버링 형태로 전처리 필요.\n",
    "* image_path : generate 작업이 필요한 이미지 파일 경로\n",
    "* gen_image_path : generate 작업 이후 저장되는 폴더 (폴더명은 개인에 맞게 변경 가능), 반드시 생성 필요. \n",
    "* count : 압축해제 된 폴더에 있는 이미지 갯수, 초기값 0\n",
    "* gen_count : 이미지 당 제너레이트 하고자 하는 이미지 갯수, 초기값 0"
   ]
  },
  {
   "cell_type": "code",
   "execution_count": null,
   "metadata": {
    "id": "q26tb-aEXfAB"
   },
   "outputs": [],
   "source": [
    "# 필요한 모듈 import \n",
    "from numpy import expand_dims\n",
    "from keras.preprocessing.image import load_img\n",
    "from keras.preprocessing.image import img_to_array\n",
    "from keras.preprocessing.image import ImageDataGenerator\n",
    "from PIL import Image"
   ]
  },
  {
   "cell_type": "code",
   "execution_count": 1,
   "metadata": {},
   "outputs": [
    {
     "name": "stdout",
     "output_type": "stream",
     "text": [
      "zsh:1: parse error near `>'\r\n"
     ]
    }
   ],
   "source": [
    "!unzip <압축폴더명.zip> "
   ]
  },
  {
   "cell_type": "code",
   "execution_count": null,
   "metadata": {},
   "outputs": [],
   "source": [
    "count = 0     \n",
    "gen_count = 0 "
   ]
  },
  {
   "cell_type": "code",
   "execution_count": null,
   "metadata": {},
   "outputs": [],
   "source": [
    "for i in range(count):\n",
    "    i = i+1\n",
    "    # Image Path\n",
    "    imgs = load_img('image_path/image_file_{}'.format(i))\n",
    "    data = img_to_array(imgs)\n",
    "\n",
    "    samples = expand_dims(data, 0)\n",
    "    datagen = ImageDataGenerator(\n",
    "                            zoom_range=[0.85,1.0],\n",
    "                            brightness_range=[0.3,0.8],\n",
    "                            rotation_range=45,\n",
    "                            horizontal_flip=True,\n",
    "                            vertical_flip = True,\n",
    "                            height_shift_range=0.5,\n",
    "                            width_shift_range=0.5\n",
    "                            )\n",
    "    \n",
    "    it = datagen.flow(samples, batch_size=1)\n",
    "\n",
    "    for j in range(gen_count):\n",
    "        batch = it.next()\n",
    "        image = batch[0].astype('uint8')\n",
    "        img = Image.fromarray(image)\n",
    "\n",
    "        img.save(\"./gen_image_path/gen_image_file_{},{}.jpeg\".format(i,j), \"jpeg\")"
   ]
  }
 ],
 "metadata": {
  "colab": {
   "collapsed_sections": [],
   "name": "image_generator_form.ipynb",
   "provenance": []
  },
  "kernelspec": {
   "display_name": "Python 3",
   "language": "python",
   "name": "python3"
  },
  "language_info": {
   "codemirror_mode": {
    "name": "ipython",
    "version": 3
   },
   "file_extension": ".py",
   "mimetype": "text/x-python",
   "name": "python",
   "nbconvert_exporter": "python",
   "pygments_lexer": "ipython3",
   "version": "3.8.5"
  }
 },
 "nbformat": 4,
 "nbformat_minor": 1
}
