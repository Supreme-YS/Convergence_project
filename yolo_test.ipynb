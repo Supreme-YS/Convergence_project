{
  "nbformat": 4,
  "nbformat_minor": 0,
  "metadata": {
    "colab": {
      "name": "yolo_test.ipynb",
      "private_outputs": true,
      "provenance": [],
      "collapsed_sections": [],
      "authorship_tag": "ABX9TyPSsF4dyJj9V1EpKL+SdjIn",
      "include_colab_link": true
    },
    "kernelspec": {
      "name": "python3",
      "display_name": "Python 3"
    },
    "language_info": {
      "name": "python"
    },
    "accelerator": "GPU"
  },
  "cells": [
    {
      "cell_type": "markdown",
      "metadata": {
        "id": "view-in-github",
        "colab_type": "text"
      },
      "source": [
        "<a href=\"https://colab.research.google.com/github/im-Lily/Convergence_project/blob/develop/yolo_test.ipynb\" target=\"_parent\"><img src=\"https://colab.research.google.com/assets/colab-badge.svg\" alt=\"Open In Colab\"/></a>"
      ]
    },
    {
      "cell_type": "code",
      "metadata": {
        "id": "xGL6iVQNJZAV"
      },
      "source": [
        "!git clone https://github.com/ultralytics/yolov5"
      ],
      "execution_count": null,
      "outputs": []
    },
    {
      "cell_type": "code",
      "metadata": {
        "id": "zb4bPFbs6Z0Y"
      },
      "source": [
        "# yolov5 폴더가 만들어진 경로를 찾아서 들어가주세요\n",
        "%cd yolov5"
      ],
      "execution_count": null,
      "outputs": []
    },
    {
      "cell_type": "code",
      "metadata": {
        "id": "fnx18izYJc1R"
      },
      "source": [
        "# 데이터셋 압축해제\n",
        "!unzip -q ../train_data.zip -d ../"
      ],
      "execution_count": null,
      "outputs": []
    },
    {
      "cell_type": "code",
      "metadata": {
        "id": "Dyt6FHit6if-"
      },
      "source": [
        "# 필요 라이브러리 설치\n",
        "!pip install -qr requirements.txt"
      ],
      "execution_count": null,
      "outputs": []
    },
    {
      "cell_type": "code",
      "metadata": {
        "id": "Y6aBNkw76yz9"
      },
      "source": [
        "# coco128.yaml 파일 내용 확인\n",
        "%cat /content/yolov5/data/coco128.yaml"
      ],
      "execution_count": null,
      "outputs": []
    },
    {
      "cell_type": "code",
      "metadata": {
        "id": "wGUyu9Hf7Ufl"
      },
      "source": [
        "# base_img 개수 확인\n",
        "%cd /content/\n",
        "from glob import glob\n",
        "\n",
        "img_list = glob('/content/train_data/images/train/*.jpg')\n",
        "\n",
        "print(len(img_list))"
      ],
      "execution_count": null,
      "outputs": []
    },
    {
      "cell_type": "code",
      "metadata": {
        "id": "yxwHwYUj7zWc"
      },
      "source": [
        "# 데이터셋 분할\n",
        "from sklearn.model_selection import train_test_split\n",
        "\n",
        "train_img_list, val_img_list = train_test_split(img_list, test_size=0.2, random_state=2000)\n",
        "\n",
        "print(len(train_img_list), len(val_img_list))"
      ],
      "execution_count": null,
      "outputs": []
    },
    {
      "cell_type": "code",
      "metadata": {
        "id": "J9UbLGSD72vK"
      },
      "source": [
        "# train, val dataset list 확인\n",
        "with open('/content/train.txt', 'w') as f:\n",
        "  f.write('\\n'.join(train_img_list) + '\\n')\n",
        "\n",
        "with open('/content/val.txt', 'w') as f:\n",
        "  f.write('\\n'.join(val_img_list) + '\\n')"
      ],
      "execution_count": null,
      "outputs": []
    },
    {
      "cell_type": "code",
      "metadata": {
        "id": "1ADjehGd8J-Y"
      },
      "source": [
        "import yaml\n",
        "\n",
        "with open('/content/yolov5/data/coco128.yaml', 'r') as f:\n",
        "  data = yaml.load(f)\n",
        "\n",
        "print(data)\n",
        "\n",
        "data['train'] = '/content/train.txt'\n",
        "data['val'] = '/content/val.txt'\n",
        "data['nc'] = 3\n",
        "data['names'] = ['PET','PP','PS']\n",
        "\n",
        "\n",
        "with open('/content/yolov5/data/coco128.yaml', 'w') as f:\n",
        "  yaml.dump(data, f)\n",
        "\n",
        "print(data)"
      ],
      "execution_count": null,
      "outputs": []
    },
    {
      "cell_type": "code",
      "metadata": {
        "id": "g4vbgxWU_kky"
      },
      "source": [
        "# train\n",
        "%cd /content/yolov5/\n",
        "\n",
        "!python train.py --img 640 --batch 16 --epochs 50 --data /data/coco128.yaml --weights yolov5m.pt --cfg ./models/yolov5m.yaml"
      ],
      "execution_count": null,
      "outputs": []
    },
    {
      "cell_type": "code",
      "metadata": {
        "id": "5cHHgrrwDyM0"
      },
      "source": [
        "from IPython.display import Image\n",
        "import os\n",
        "\n",
        "val_img_path = val_img_list[4]\n",
        "\n",
        "!python detect.py --weights runs/train/exp/weights/best.pt --img 640 --conf 0.5 --source \"{val_img_path}\"\n",
        "\n",
        "Image(os.path.join('/content/yolov5/runs/detect/exp', os.path.basename(val_img_path)))"
      ],
      "execution_count": null,
      "outputs": []
    },
    {
      "cell_type": "code",
      "metadata": {
        "id": "09QOb7jfMqN0"
      },
      "source": [
        "%load_ext tensorboard\n",
        "%tensorboard --logdir /content/yolov5/runs/"
      ],
      "execution_count": null,
      "outputs": []
    },
    {
      "cell_type": "code",
      "metadata": {
        "id": "PSl6QVJ2GdFN"
      },
      "source": [
        "!python test.py --data coco128.yaml --weights ./runs/train/exp/weights/best.pt --save-json"
      ],
      "execution_count": null,
      "outputs": []
    },
    {
      "cell_type": "code",
      "metadata": {
        "id": "rvSKqutsnxgE"
      },
      "source": [
        "# test dataset 압축해제\n",
        "!unzip -q ../mark.zip -d ../"
      ],
      "execution_count": null,
      "outputs": []
    },
    {
      "cell_type": "code",
      "metadata": {
        "id": "lkIC3_F0jJEH"
      },
      "source": [
        "!python detect.py --weights runs/train/exp/weights/best.pt --img 640 --conf 0.25 --source ./uploads/test1.jpg"
      ],
      "execution_count": null,
      "outputs": []
    },
    {
      "cell_type": "code",
      "metadata": {
        "id": "ZRdQg6tBKbeO"
      },
      "source": [
        "!python custom_detect.py --weights runs/train/exp/weights/best.pt --img 640 --conf 0.25 --source ./uploads/test.jpg"
      ],
      "execution_count": null,
      "outputs": []
    },
    {
      "cell_type": "code",
      "metadata": {
        "id": "QtPkLJxTEN3K"
      },
      "source": [
        ""
      ],
      "execution_count": null,
      "outputs": []
    },
    {
      "cell_type": "markdown",
      "metadata": {
        "id": "H24ChfQIj03t"
      },
      "source": [
        ""
      ]
    }
  ]
}